{
 "cells": [
  {
   "cell_type": "code",
   "execution_count": 1,
   "id": "f77e9907",
   "metadata": {},
   "outputs": [],
   "source": [
    "import os\n",
    "from pathlib import Path\n",
    "\n",
    "from dotenv import load_dotenv\n",
    "\n",
    "import polars as pl\n",
    "\n",
    "from src.utils import polars_read_uc"
   ]
  },
  {
   "cell_type": "code",
   "execution_count": null,
   "id": "03f9e620",
   "metadata": {},
   "outputs": [],
   "source": [
    "# Constants\n",
    "# UC tables\n",
    "CATALOG_NAME=\"your_uc_catalog\"\n",
    "SCHEMA_NAME=\"your_schema\"\n",
    "TABLE_NAME=\"your_table\"\n",
    "\n",
    "# Project \n",
    "DOTENV_PATH=\"devops/.env\""
   ]
  },
  {
   "cell_type": "code",
   "execution_count": 3,
   "id": "22d72478",
   "metadata": {},
   "outputs": [],
   "source": [
    "# Variable resolution and loading\n",
    "load_dotenv(dotenv_path=Path(DOTENV_PATH))\n",
    "table_uc_name=f\"{CATALOG_NAME}.{SCHEMA_NAME}.{TABLE_NAME}\""
   ]
  },
  {
   "cell_type": "markdown",
   "id": "11498dd3",
   "metadata": {},
   "source": [
    "1. Read table without column pruning nor predicate pushdown"
   ]
  },
  {
   "cell_type": "code",
   "execution_count": 4,
   "id": "ab67c7c3",
   "metadata": {},
   "outputs": [],
   "source": [
    "my_pl_df_all=polars_read_uc(table_uc_name)"
   ]
  },
  {
   "cell_type": "code",
   "execution_count": null,
   "id": "d22a8741",
   "metadata": {},
   "outputs": [],
   "source": [
    "some_agg_from_all = (\n",
    "    my_pl_df_all\n",
    "    .group_by(\"some_groupby_column\")\n",
    "    .agg([\n",
    "        pl.col(\"some_column_to_agg\").sum().alias(\"some_alias\")\n",
    "    ])\n",
    ")"
   ]
  },
  {
   "cell_type": "markdown",
   "id": "9dc77fb5",
   "metadata": {},
   "source": [
    "2. Read table with column pruning"
   ]
  },
  {
   "cell_type": "code",
   "execution_count": null,
   "id": "112ec952",
   "metadata": {},
   "outputs": [],
   "source": [
    "my_pl_df_column_pruned=(\n",
    "    polars_read_uc(\n",
    "        table_uc_name,\n",
    "        columns=[\"some_groupby_column\", \"some_column_to_agg\"]\n",
    "    )\n",
    ")"
   ]
  },
  {
   "cell_type": "code",
   "execution_count": null,
   "id": "36ff5621",
   "metadata": {},
   "outputs": [],
   "source": [
    "some_agg_from_column_pruned = (\n",
    "    my_pl_df_column_pruned\n",
    "    .group_by(\"some_groupby_column\")\n",
    "    .agg([\n",
    "        pl.col(\"some_column_to_agg\").sum().alias(\"some_alias\")\n",
    "    ])\n",
    ")"
   ]
  },
  {
   "cell_type": "markdown",
   "id": "90d5ff43",
   "metadata": {},
   "source": [
    "3. Read table with column pruning and predicate pushdown (assume table partitioned)"
   ]
  },
  {
   "cell_type": "code",
   "execution_count": null,
   "id": "166bdd5d",
   "metadata": {},
   "outputs": [],
   "source": [
    "my_pl_df_small=(\n",
    "    polars_read_uc(\n",
    "        table_uc_name,\n",
    "        partitions=[(\"some_partition_col\", \"=\", \"some_partition_val\")],\n",
    "        columns=[\"some_groupby_column\", \"some_column_to_agg\"]\n",
    "    )\n",
    ")"
   ]
  },
  {
   "cell_type": "code",
   "execution_count": null,
   "id": "840ea25b",
   "metadata": {},
   "outputs": [],
   "source": [
    "some_agg_from_small = (\n",
    "    my_pl_df_small\n",
    "    .group_by(\"some_groupby_column\")\n",
    "    .agg([\n",
    "        pl.col(\"some_column_to_agg\").sum().alias(\"some_alias\")\n",
    "    ])\n",
    ")"
   ]
  },
  {
   "cell_type": "markdown",
   "id": "8142dbed",
   "metadata": {},
   "source": [
    "Compare sizes:"
   ]
  },
  {
   "cell_type": "code",
   "execution_count": 9,
   "id": "5b30f303",
   "metadata": {},
   "outputs": [
    {
     "name": "stdout",
     "output_type": "stream",
     "text": [
      "Size all: 2.122442901134491\n",
      "Size column pruning: 0.10247126780450344\n",
      "Size column pruning and predicate pushdown: 0.04640738479793072\n"
     ]
    }
   ],
   "source": [
    "def get_pl_size_in_gb(pl_df):\n",
    "    return pl_df.estimated_size() / (1024 ** 3)\n",
    "\n",
    "print(f\"Size all: {get_pl_size_in_gb(my_pl_df_all)}\")\n",
    "print(f\"Size column pruning: {get_pl_size_in_gb(my_pl_df_column_pruned)}\")\n",
    "print(f\"Size column pruning and predicate pushdown: {get_pl_size_in_gb(my_pl_df_small)}\")"
   ]
  },
  {
   "cell_type": "code",
   "execution_count": null,
   "id": "04c69d47",
   "metadata": {},
   "outputs": [],
   "source": []
  }
 ],
 "metadata": {
  "kernelspec": {
   "display_name": ".venv",
   "language": "python",
   "name": "python3"
  },
  "language_info": {
   "codemirror_mode": {
    "name": "ipython",
    "version": 3
   },
   "file_extension": ".py",
   "mimetype": "text/x-python",
   "name": "python",
   "nbconvert_exporter": "python",
   "pygments_lexer": "ipython3",
   "version": "3.11.4"
  }
 },
 "nbformat": 4,
 "nbformat_minor": 5
}
