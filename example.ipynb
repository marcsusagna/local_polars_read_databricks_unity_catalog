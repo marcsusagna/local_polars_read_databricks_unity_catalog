{
 "cells": [
  {
   "cell_type": "code",
   "execution_count": null,
   "id": "03f9e620",
   "metadata": {
    "vscode": {
     "languageId": "plaintext"
    }
   },
   "outputs": [],
   "source": [
    "# Constants\n",
    "CATALOG_NAME=\n",
    "SCHEMA_NAME=\n",
    "TABLE_NAME="
   ]
  }
 ],
 "metadata": {
  "language_info": {
   "name": "python"
  }
 },
 "nbformat": 4,
 "nbformat_minor": 5
}
